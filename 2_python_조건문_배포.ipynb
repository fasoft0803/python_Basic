{
 "cells": [
  {
   "cell_type": "markdown",
   "id": "9cba4132",
   "metadata": {},
   "source": [
    "# Python Conditional Statements"
   ]
  },
  {
   "cell_type": "markdown",
   "id": "6c3bfed0",
   "metadata": {},
   "source": [
    "이 노트북에서는 Python의 조건문을 학습할 것입니다."
   ]
  },
  {
   "cell_type": "markdown",
   "id": "d2473a69",
   "metadata": {},
   "source": [
    "## 1. `if` 문"
   ]
  },
  {
   "cell_type": "markdown",
   "id": "db568c22",
   "metadata": {},
   "source": [
    "조건문은 특정 조건에 따라 코드 블록을 실행할 때 사용됩니다."
   ]
  },
  {
   "cell_type": "code",
   "execution_count": 1,
   "id": "097e7e00-0f07-4533-821b-72c0041cdee3",
   "metadata": {},
   "outputs": [
    {
     "name": "stdout",
     "output_type": "stream",
     "text": [
      "x1은 10보다 크다.\n",
      "참인 경우\n",
      "끝\n"
     ]
    }
   ],
   "source": [
    "x1 = 11\n",
    "if x1 > 10:\n",
    "    print(\"x1은 10보다 크다.\")\n",
    "    print(\"참인 경우\")\n",
    "    \n",
    "print(\"끝\")"
   ]
  },
  {
   "cell_type": "code",
   "execution_count": 2,
   "id": "bbebbbc3",
   "metadata": {},
   "outputs": [
    {
     "name": "stdout",
     "output_type": "stream",
     "text": [
      "x is greater than 5\n"
     ]
    }
   ],
   "source": [
    "x = 10\n",
    "\n",
    "if x > 5:\n",
    "    print(\"x is greater than 5\")"
   ]
  },
  {
   "cell_type": "code",
   "execution_count": 3,
   "id": "c2df162c-3a67-404a-8ca7-312edab2d4df",
   "metadata": {},
   "outputs": [
    {
     "name": "stdin",
     "output_type": "stream",
     "text": [
      "입력 :  3\n"
     ]
    }
   ],
   "source": [
    "x = int(input(\"입력 : \"))\n",
    "\n",
    "if x > 5:\n",
    "    print(\"x is greater than 5\")"
   ]
  },
  {
   "cell_type": "markdown",
   "id": "98044a99",
   "metadata": {},
   "source": [
    "위의 코드에서 `x`가 5보다 크기 때문에 `print()` 함수가 실행됩니다."
   ]
  },
  {
   "cell_type": "code",
   "execution_count": null,
   "id": "f5113b52-8abc-469b-9205-e8a4bde02f2d",
   "metadata": {},
   "outputs": [],
   "source": []
  },
  {
   "cell_type": "markdown",
   "id": "3a4a7570-785f-4f7a-9e3f-6da83bb9ddb0",
   "metadata": {},
   "source": [
    "#### 연습문제 1) 사용자로부터 문자열을 입력받아, 그 문자열이 \"Python\"인 경우 \"입력한 문자열은 Python입니다.\"라고 출력하는 프로그램을 작성하세요."
   ]
  },
  {
   "cell_type": "code",
   "execution_count": null,
   "id": "bcf45fcc-b770-45d7-b765-e3b57103b05d",
   "metadata": {},
   "outputs": [],
   "source": []
  },
  {
   "cell_type": "code",
   "execution_count": null,
   "id": "c29bf151-b59d-4503-af9b-053bd9082cb5",
   "metadata": {},
   "outputs": [],
   "source": []
  },
  {
   "cell_type": "markdown",
   "id": "97322b7c",
   "metadata": {},
   "source": [
    "## 2. `if-else` 문"
   ]
  },
  {
   "cell_type": "markdown",
   "id": "2eac1d78",
   "metadata": {},
   "source": [
    "`if` 문에 `else`를 추가하여 조건이 참일 때와 거짓일 때의 동작을 다르게 할 수 있습니다."
   ]
  },
  {
   "cell_type": "code",
   "execution_count": null,
   "id": "db9e4be1",
   "metadata": {},
   "outputs": [],
   "source": [
    "x = int(input(\"입력 : \"))\n",
    "\n",
    "if x > 5:\n",
    "    print(\"x is greater than 5\")\n",
    "else:\n",
    "    print(\"x is not greater than 5\")\n",
    "\n",
    "print(\"end\")"
   ]
  },
  {
   "cell_type": "markdown",
   "id": "892d676d",
   "metadata": {},
   "source": [
    "`x`가 5보다 크지 않기 때문에 `else` 블록의 코드가 실행됩니다."
   ]
  },
  {
   "cell_type": "code",
   "execution_count": null,
   "id": "bb62fc5c-0d55-472d-ac9b-5c6cc5cf61ae",
   "metadata": {},
   "outputs": [],
   "source": []
  },
  {
   "cell_type": "markdown",
   "id": "47ce9e36-8d77-4d9e-900d-a1fdeda53c06",
   "metadata": {},
   "source": [
    "#### 연습문제 2) 사용자로부터 숫자를 입력받아, 그 숫자가 짝수인지 홀수인지 확인한 후 해당 결과를 출력하는 프로그램을 작성하세요."
   ]
  },
  {
   "cell_type": "code",
   "execution_count": null,
   "id": "1eb2be88-05ff-4105-9f5b-d18fb5ef0bc4",
   "metadata": {},
   "outputs": [],
   "source": []
  },
  {
   "cell_type": "markdown",
   "id": "b5f6c226-01d1-4866-b076-88d064f8494a",
   "metadata": {},
   "source": [
    "#### 연습문제 3) 사용자로부터 나이를 입력받아, 19세 이상이면 \"성인입니다.\"라고 출력하고, 그렇지 않으면 \"미성년자입니다.\"라고 출력하는 프로그램을 작성하세요."
   ]
  },
  {
   "cell_type": "code",
   "execution_count": null,
   "id": "b6feb48c-8806-4b2a-9c0e-2eb04ff71c7d",
   "metadata": {},
   "outputs": [],
   "source": []
  },
  {
   "cell_type": "code",
   "execution_count": null,
   "id": "8fc70465-82ac-4658-a0fc-738098c136c1",
   "metadata": {},
   "outputs": [],
   "source": []
  },
  {
   "cell_type": "markdown",
   "id": "6f743b23",
   "metadata": {},
   "source": [
    "## 3. `if-elif-else` 문"
   ]
  },
  {
   "cell_type": "markdown",
   "id": "a635d967",
   "metadata": {},
   "source": [
    "여러 조건을 처리하기 위해 `elif`를 사용할 수 있습니다."
   ]
  },
  {
   "cell_type": "code",
   "execution_count": null,
   "id": "1d603c4f-1a84-46f9-a7c1-968465862439",
   "metadata": {},
   "outputs": [],
   "source": [
    "x = int(input(\"입력 : \"))\n",
    "\n",
    "if x > 10:\n",
    "    print(\"x is greater than 10\")\n",
    "elif x == 10:\n",
    "    print(\"x is equal to 10\")\n",
    "else:\n",
    "    print(\"x is less than 10\")"
   ]
  },
  {
   "cell_type": "code",
   "execution_count": null,
   "id": "0f6b3479-b7e5-43a4-955e-fcf0088b0040",
   "metadata": {},
   "outputs": [],
   "source": []
  },
  {
   "cell_type": "markdown",
   "id": "b1a2dab0-5328-4802-9852-934ab9cc9421",
   "metadata": {},
   "source": [
    "#### 연습문제 4)사용자로부터 점수를 입력받아, 점수에 따라 학점을 출력하는 프로그램을 작성하세요.  \n",
    "90점 이상: \"A\"  \n",
    "80점 이상 90점 미만: \"B\"  \n",
    "70점 이상 80점 미만: \"C\"  \n",
    "60점 이상 70점 미만: \"D\"  \n",
    "60점 미만: \"F\"  "
   ]
  },
  {
   "cell_type": "code",
   "execution_count": null,
   "id": "3a5b1929-77ba-4175-b0c3-24432acd2ada",
   "metadata": {},
   "outputs": [],
   "source": []
  },
  {
   "cell_type": "markdown",
   "id": "f25f8d49-550c-4d1e-9277-947366ddbec5",
   "metadata": {},
   "source": [
    "#### 연습문제 5) 사용자로부터 기온을 입력받아, 기온에 따라 옷차림을 추천하는 프로그램을 작성하세요.\n",
    "\n",
    "30도 이상: \"너무 덥습니다. 가벼운 옷차림을 추천합니다.\"  \n",
    "20도 이상 30도 미만: \"적당한 날씨입니다. 가벼운 자켓을 입으세요.\"  \n",
    "10도 이상 20도 미만: \"조금 쌀쌀합니다. 따뜻한 옷을 입으세요.\"  \n",
    "10도 미만: \"매우 춥습니다. 외투를 꼭 챙기세요.\"  "
   ]
  },
  {
   "cell_type": "code",
   "execution_count": null,
   "id": "b6e03a60-c415-4a11-ab28-588b28ca2e0e",
   "metadata": {},
   "outputs": [],
   "source": []
  },
  {
   "cell_type": "markdown",
   "id": "63ec25d5",
   "metadata": {},
   "source": [
    "이 코드는 `x`의 값에 따라 세 가지 경우 중 하나를 출력합니다."
   ]
  },
  {
   "cell_type": "markdown",
   "id": "cfe3f2c4",
   "metadata": {},
   "source": [
    "## 4. 중첩 조건문"
   ]
  },
  {
   "cell_type": "markdown",
   "id": "f97c6bf3",
   "metadata": {},
   "source": [
    "조건문 안에 또 다른 조건문을 작성할 수 있습니다."
   ]
  },
  {
   "cell_type": "code",
   "execution_count": null,
   "id": "0df89beb-f97a-4c0b-84b3-ca0a95e63cf2",
   "metadata": {},
   "outputs": [],
   "source": [
    "x = int(input(\"입력 : \"))\n",
    "\n",
    "if 10 > x > 5:\n",
    "#if 10 > x and x > 5:    \n",
    "    print(\"x is between 5 and 10\")"
   ]
  },
  {
   "cell_type": "code",
   "execution_count": null,
   "id": "340105b9",
   "metadata": {},
   "outputs": [],
   "source": [
    "x = int(input(\"입력 : \"))\n",
    "\n",
    "if x > 5:\n",
    "    if x < 10:\n",
    "        print(\"x is between 5 and 10\")\n",
    "    else:\n",
    "        #print(\"x 는 5보다 크고 10보다 큽니다\")\n",
    "        print(\"x 는 10보다 큽니다\")"
   ]
  },
  {
   "cell_type": "markdown",
   "id": "864480a7",
   "metadata": {},
   "source": [
    "위의 코드에서 `x`가 5보다 크고 10보다 작기 때문에 중첩된 조건문이 실행됩니다."
   ]
  },
  {
   "cell_type": "markdown",
   "id": "768b61f4",
   "metadata": {},
   "source": [
    "#### 연습문제 6) 사용자로부터 나이와 성별을 입력받아, 나이에 따른 운동을 추천하는 프로그램을 작성하세요.\n",
    "\n",
    "18세 미만이면 \"추천 운동: 줄넘기\"를 출력합니다.  \n",
    "18세 이상이면 성별을 확인하여 남성에게는 \"추천 운동: 헬스\", 여성에게는 \"추천 운동: 요가\"를 출력합니다.  "
   ]
  },
  {
   "cell_type": "code",
   "execution_count": null,
   "id": "a4e7aba4-9fb0-4858-b1f2-c6711c59afc7",
   "metadata": {},
   "outputs": [],
   "source": []
  },
  {
   "cell_type": "markdown",
   "id": "99c581f4-f00d-442b-abe2-34771ef35302",
   "metadata": {},
   "source": [
    "#### 연습문제 7) 사용자로부터 시험 점수를 입력받아 합격 여부를 확인하고, 합격 시 우수 성적 여부를 추가로 확인하는 프로그램을 작성하세요.\n",
    "\n",
    "60점 이상이면 \"합격\"을 출력하고, 90점 이상이면 \"우수 합격\"을 추가로 출력합니다.  \n",
    "60점 미만이면 \"불합격\"을 출력합니다.  "
   ]
  },
  {
   "cell_type": "code",
   "execution_count": null,
   "id": "22096060-d545-418b-803c-ad276d1a27a7",
   "metadata": {},
   "outputs": [],
   "source": []
  }
 ],
 "metadata": {
  "kernelspec": {
   "display_name": "Python 3 (ipykernel)",
   "language": "python",
   "name": "python3"
  },
  "language_info": {
   "codemirror_mode": {
    "name": "ipython",
    "version": 3
   },
   "file_extension": ".py",
   "mimetype": "text/x-python",
   "name": "python",
   "nbconvert_exporter": "python",
   "pygments_lexer": "ipython3",
   "version": "3.9.21"
  }
 },
 "nbformat": 4,
 "nbformat_minor": 5
}
