{
 "cells": [
  {
   "cell_type": "markdown",
   "id": "d6aa1718",
   "metadata": {},
   "source": [
    "# Python Loops"
   ]
  },
  {
   "cell_type": "markdown",
   "id": "1f165086",
   "metadata": {},
   "source": [
    "이 노트북에서는 Python의 반복문을 학습할 것입니다."
   ]
  },
  {
   "cell_type": "markdown",
   "id": "c97bd570-59ec-4ed8-b71c-8ed051179d8a",
   "metadata": {},
   "source": [
    "파이썬에서 **`for`**와 **`while`** 반복문은 코드를 여러 번 실행하기 위해 사용됩니다. 두 반복문의 사용 목적은 비슷하지만, **반복의 방식**과 **조건**에서 차이가 있습니다.\n",
    "\n",
    "### 1. **`for` 반복문**\n",
    "- **정해진 범위** 또는 **시퀀스 자료형**(리스트, 튜플, 문자열 등)을 순회하면서 반복 작업을 수행할 때 사용합니다.\n",
    "- 주로 **반복 횟수가 미리 정해져 있을 때** 사용하기 적합합니다.\n",
    "\n",
    "#### 기본 구조:\n",
    "```python\n",
    "for 변수 in 시퀀스:\n",
    "    실행할 코드\n",
    "```\n",
    "\n",
    "#### 예시:\n",
    "```python\n",
    "fruits = [\"사과\", \"바나나\", \"오렌지\"]\n",
    "for fruit in fruits:\n",
    "    print(fruit)\n",
    "```\n",
    "\n",
    "**결과**:\n",
    "```\n",
    "사과\n",
    "바나나\n",
    "오렌지\n",
    "```\n",
    "\n",
    "- 여기서는 `fruits` 리스트의 각 요소를 순서대로 `fruit` 변수에 대입하고, 그 값을 출력합니다.\n",
    "\n",
    "### 2. **`while` 반복문**\n",
    "- **조건**이 참일 때 계속 반복되는 방식입니다. 조건이 거짓이 되면 반복을 멈춥니다.\n",
    "- 주로 **반복 횟수가 미리 정해져 있지 않거나, 특정 조건을 만족할 때까지 반복**할 때 사용됩니다.\n",
    "\n",
    "#### 기본 구조:\n",
    "```python\n",
    "while 조건:\n",
    "    실행할 코드\n",
    "```\n",
    "\n",
    "#### 예시:\n",
    "```python\n",
    "i = 0\n",
    "while i < 5:\n",
    "    print(i)\n",
    "    i += 1  # i를 1씩 증가시킴\n",
    "```\n",
    "\n",
    "**결과**:\n",
    "```\n",
    "0\n",
    "1\n",
    "2\n",
    "3\n",
    "4\n",
    "```\n",
    "\n",
    "- 여기서는 `i`가 5보다 작을 때까지 계속 반복하며, `i`가 매번 1씩 증가합니다.\n",
    "\n",
    "### **`for`와 `while`의 차이점**\n",
    "1. **사용 용도**:\n",
    "   - **`for`**: 시퀀스 자료형이나 정해진 범위에서 요소를 하나씩 가져와서 반복할 때 주로 사용합니다.\n",
    "   - **`while`**: 특정 조건을 만족하는 동안 계속 반복할 때 사용하며, 조건에 따라 반복 횟수가 달라질 수 있습니다.\n",
    "\n",
    "2. **종료 조건**:\n",
    "   - **`for`**: 주어진 시퀀스가 끝나거나 범위가 끝나면 자동으로 종료됩니다.\n",
    "   - **`while`**: 조건이 **거짓**이 되면 반복이 종료됩니다. 조건이 계속 참이면 무한 루프에 빠질 수 있으므로 주의해야 합니다.\n",
    "\n",
    "### 요약\n",
    "- **`for`**: 시퀀스를 순회할 때 사용하며, 반복 횟수가 **명확**할 때 적합.\n",
    "- **`while`**: 특정 조건을 만족할 때까지 반복하며, 반복 횟수가 **불명확**하거나 **조건**에 의존할 때 적합.\n",
    "\n"
   ]
  },
  {
   "cell_type": "markdown",
   "id": "1a7230b5",
   "metadata": {},
   "source": [
    "## 1. `while` 문"
   ]
  },
  {
   "cell_type": "markdown",
   "id": "41cac845",
   "metadata": {},
   "source": [
    "`while` 문은 주어진 조건이 참인 동안 반복 실행됩니다."
   ]
  },
  {
   "cell_type": "code",
   "execution_count": null,
   "id": "1f0177a3-301a-4b3e-8e99-c1dc7d5a9cba",
   "metadata": {},
   "outputs": [],
   "source": [
    "# 값을 증가 시키는 방법\n",
    "x=1\n",
    "print(x)"
   ]
  },
  {
   "cell_type": "code",
   "execution_count": null,
   "id": "abfbaf6d-fa6d-4082-b8b4-1296741aef60",
   "metadata": {},
   "outputs": [],
   "source": [
    "x = x + 1"
   ]
  },
  {
   "cell_type": "code",
   "execution_count": null,
   "id": "a3234847-bfce-4261-b24d-02314fe1fe38",
   "metadata": {},
   "outputs": [],
   "source": [
    "print(x)"
   ]
  },
  {
   "cell_type": "code",
   "execution_count": null,
   "id": "af8f8cbb-42e9-410e-ba1d-005c9b880557",
   "metadata": {},
   "outputs": [],
   "source": [
    "x += 1"
   ]
  },
  {
   "cell_type": "code",
   "execution_count": null,
   "id": "7911af19-c13b-4103-a994-0a8ec2fa0df1",
   "metadata": {},
   "outputs": [],
   "source": [
    "print(x)"
   ]
  },
  {
   "cell_type": "code",
   "execution_count": null,
   "id": "118d0c0c",
   "metadata": {},
   "outputs": [],
   "source": [
    "x = 0\n",
    "\n",
    "while x < 5:\n",
    "    print(\"x is:\", x)\n",
    "    x += 1   "
   ]
  },
  {
   "cell_type": "code",
   "execution_count": null,
   "id": "38b27baa-61e2-4c03-b76d-644392d276db",
   "metadata": {},
   "outputs": [],
   "source": [
    "data = 10\n",
    "\n",
    "while data < 60:\n",
    "    print(data)\n",
    "    data = data + 10"
   ]
  },
  {
   "cell_type": "markdown",
   "id": "d033d5b5-bcf1-40db-b03f-7b1ae8498018",
   "metadata": {},
   "source": [
    "### 연습문제 1) 다음과 같이 숫자가 표시 될 수 있도록 while 반복문을 작성하세요.  \n",
    "5  \n",
    "4  \n",
    "3  \n",
    "2  \n",
    "1  "
   ]
  },
  {
   "cell_type": "code",
   "execution_count": null,
   "id": "25069580-f6c5-44a1-9c62-e29fb87038a9",
   "metadata": {},
   "outputs": [],
   "source": []
  },
  {
   "cell_type": "markdown",
   "id": "a21f87cf-5e3f-45be-94a1-e1e8a79fc9c5",
   "metadata": {},
   "source": [
    "### 연습문제 2) 다음과 같이 숫자가 표시 될 수 있도록 while 반복문을 작성하세요.  \n",
    "10  \n",
    "8  \n",
    "6  \n",
    "4  \n",
    "2  "
   ]
  },
  {
   "cell_type": "code",
   "execution_count": null,
   "id": "172bf113-16c8-47cd-9b64-6c0372cd1432",
   "metadata": {},
   "outputs": [],
   "source": []
  },
  {
   "cell_type": "code",
   "execution_count": null,
   "id": "7dc2d160-7be4-4a69-8293-b3176ad2b75c",
   "metadata": {},
   "outputs": [],
   "source": []
  },
  {
   "cell_type": "markdown",
   "id": "be335b56",
   "metadata": {},
   "source": [
    "## 2. `for` 문"
   ]
  },
  {
   "cell_type": "markdown",
   "id": "4b1472e8",
   "metadata": {},
   "source": [
    "`for` 문은 시퀀스(리스트, 튜플, 문자열 등)의 각 항목에 대해 반복합니다."
   ]
  },
  {
   "cell_type": "code",
   "execution_count": null,
   "id": "145dc675-7e06-46b3-9ff5-60b30874681e",
   "metadata": {},
   "outputs": [],
   "source": [
    "for i in range(3):\n",
    "    print(i)"
   ]
  },
  {
   "cell_type": "markdown",
   "id": "a5bc41fc-9a3e-4c61-a839-8f3de4848d85",
   "metadata": {},
   "source": [
    "`range(3)`를 사용한 파이썬의 `for` 문 동작을 순서대로 설명하면 다음과 같습니다.\n",
    "\n",
    "### 동작 순서:\n",
    "\n",
    "1. **`range(3)` 생성**: \n",
    "   - `range(3)`는 0부터 2까지의 숫자를 생성합니다. 즉, `[0, 1, 2]`라는 시퀀스가 만들어집니다.\n",
    "   \n",
    "2. **첫 번째 반복 (`i = 0`)**:\n",
    "   - `for` 문이 실행되고 `i`에 첫 번째 값인 `0`이 할당됩니다.\n",
    "   - 코드 블록 내의 `print(i)`가 실행되어 `0`이 출력됩니다.\n",
    "\n",
    "3. **두 번째 반복 (`i = 1`)**:\n",
    "   - 다음 반복에서 `i`에 두 번째 값인 `1`이 할당됩니다.\n",
    "   - 코드 블록 내의 `print(i)`가 실행되어 `1`이 출력됩니다.\n",
    "\n",
    "4. **세 번째 반복 (`i = 2`)**:\n",
    "   - 세 번째 반복에서 `i`에 세 번째 값인 `2`가 할당됩니다.\n",
    "   - 코드 블록 내의 `print(i)`가 실행되어 `2`가 출력됩니다.\n",
    "\n",
    "5. **반복 종료**:\n",
    "   - `range(3)`의 모든 값이 순회되었기 때문에 `for` 문이 종료됩니다.\n",
    "\n",
    "### 최종 출력 결과:\n",
    "```\n",
    "0\n",
    "1\n",
    "2\n",
    "```\n",
    "\n",
    "### 요약하면 다음과 같이 정리할 수 있습니다\n",
    "1. `range(3)`는 `[0, 1, 2]` 시퀀스를 생성.\n",
    "2. `for` 문이 각 값을 하나씩 꺼내 `i`에 할당.\n",
    "3. 할당된 값을 코드 블록에서 처리하고, 다음 값으로 넘어감.\n",
    "4. 모든 값이 처리되면 반복이 종료됨."
   ]
  },
  {
   "cell_type": "code",
   "execution_count": null,
   "id": "ef0284a5-386d-4829-81fe-6fb6aafd7744",
   "metadata": {},
   "outputs": [],
   "source": [
    "print(range(5))\n",
    "print(list(range(5)))"
   ]
  },
  {
   "cell_type": "code",
   "execution_count": null,
   "id": "044f62b3",
   "metadata": {},
   "outputs": [],
   "source": [
    "for i in range(5):\n",
    "    print(\"i is:\", i)\n",
    "\n",
    "print(\"End\")"
   ]
  },
  {
   "cell_type": "markdown",
   "id": "34996e36-acda-4c01-84d5-5455b6b8335d",
   "metadata": {},
   "source": [
    "### 연습문제 3) 다음과 같이 숫자가 표시 될 수 있도록 for 반복문을 작성하세요.  \n",
    "13  \n",
    "22  \n",
    "57  \n",
    "32  "
   ]
  },
  {
   "cell_type": "code",
   "execution_count": null,
   "id": "e990deb9-8ee6-4dc1-b3b6-eb6e172a412c",
   "metadata": {},
   "outputs": [],
   "source": []
  },
  {
   "cell_type": "markdown",
   "id": "2e5edb61-170e-4c45-9669-5d901ec5cb42",
   "metadata": {},
   "source": [
    "### 연습문제 4) 다음과 같이 문자가 표시 될 수 있도록 for 반복문을 작성하세요.  \n",
    "문자열 입력 : Hello  \n",
    "출력 : H/e/l/l/o/"
   ]
  },
  {
   "cell_type": "code",
   "execution_count": null,
   "id": "67abfe9a-a280-4c30-9580-520a6a6592a9",
   "metadata": {},
   "outputs": [],
   "source": []
  },
  {
   "cell_type": "markdown",
   "id": "e02b40c7-cc79-4cd9-9261-35845a156503",
   "metadata": {},
   "source": [
    "## fora문과 range 사용  "
   ]
  },
  {
   "cell_type": "markdown",
   "id": "6a4d2177",
   "metadata": {},
   "source": [
    "다음 예제는 `range(5)`는 0부터 4까지의 숫자를 생성하며, 각 숫자에 대해 `for` 문이 실행됩니다."
   ]
  },
  {
   "cell_type": "code",
   "execution_count": null,
   "id": "041fa689-48ba-47ae-b661-631d569a4f25",
   "metadata": {},
   "outputs": [],
   "source": [
    "for i in range(5):\n",
    "    print(i)"
   ]
  },
  {
   "cell_type": "markdown",
   "id": "aa913afb-03d2-40fc-83bd-ab87f6909051",
   "metadata": {},
   "source": [
    "### 연습문제 5) 다음과 같은 값을 range를 사용해 for 반복문으로 표현 하시오.  \n",
    "100  \n",
    "80  \n",
    "60  \n",
    "40  "
   ]
  },
  {
   "cell_type": "code",
   "execution_count": null,
   "id": "0750de7a-a5f8-47c0-9176-0279e1b72a6e",
   "metadata": {},
   "outputs": [],
   "source": []
  },
  {
   "cell_type": "markdown",
   "id": "1977b610",
   "metadata": {},
   "source": [
    "## 3. `break`와 `continue`"
   ]
  },
  {
   "cell_type": "markdown",
   "id": "34e5b7c0",
   "metadata": {},
   "source": [
    "`break` 문은 반복문을 즉시 종료하고, `continue` 문은 현재 반복을 건너뛰고 다음 반복으로 넘어갑니다."
   ]
  },
  {
   "cell_type": "code",
   "execution_count": null,
   "id": "5bedf223-019c-40ba-bf7f-dbb80e6e26a2",
   "metadata": {},
   "outputs": [],
   "source": [
    "i=0\n",
    "while i<10:\n",
    "    if i == 6:\n",
    "        break\n",
    "    print(i)\n",
    "    i+=1"
   ]
  },
  {
   "cell_type": "code",
   "execution_count": null,
   "id": "64e0660a-63a6-4e1e-8e28-d3894951298e",
   "metadata": {},
   "outputs": [],
   "source": [
    "#\n",
    "for i in range(10):\n",
    "    if i == 5:\n",
    "        break\n",
    "    print(i)"
   ]
  },
  {
   "cell_type": "code",
   "execution_count": null,
   "id": "419b9619-ab7e-4a96-95ad-365dc6dad47a",
   "metadata": {},
   "outputs": [],
   "source": [
    "while 0~9    5에서 멈추려면"
   ]
  },
  {
   "cell_type": "code",
   "execution_count": null,
   "id": "24d2f88d",
   "metadata": {},
   "outputs": [],
   "source": [
    "for i in range(10):\n",
    "    if i == 5:\n",
    "        break\n",
    "    print(i)\n",
    "\n",
    "for i in range(10):\n",
    "    if i % 2 == 0:\n",
    "        continue\n",
    "    print(i)"
   ]
  },
  {
   "cell_type": "markdown",
   "id": "762de1c9",
   "metadata": {},
   "source": [
    "첫 번째 `for` 문은 `i`가 5일 때 반복을 종료합니다. 두 번째 `for` 문은 `i`가 짝수일 때 출력을 건너뛰고, 홀수만 출력합니다."
   ]
  },
  {
   "cell_type": "markdown",
   "id": "fbede901",
   "metadata": {},
   "source": [
    "## 4. 중첩 루프"
   ]
  },
  {
   "cell_type": "markdown",
   "id": "e37a2ced",
   "metadata": {},
   "source": [
    "반복문 안에 또 다른 반복문을 작성할 수 있습니다."
   ]
  },
  {
   "cell_type": "code",
   "execution_count": null,
   "id": "ec608601",
   "metadata": {},
   "outputs": [],
   "source": [
    "for i in range(3): # \n",
    "    for j in range(2): #0 1\n",
    "        print(\"i:\", i, \"j:\", j)"
   ]
  },
  {
   "attachments": {
    "2ed6bf61-8164-4020-962b-4ac9e44b73cd.png": {
     "image/png": "[encoded data removed]"
    }
   },
   "cell_type": "markdown",
   "id": "359daa7c-3fcb-49b6-856b-b7daa90056db",
   "metadata": {},
   "source": [
    "### 연습문제 6) 중첩된 for문을 사용하여 한 변이 4일 정사각형 별찍기를 만드시오.  \n",
    "\n",
    "![image.png](attachment:2ed6bf61-8164-4020-962b-4ac9e44b73cd.png)\n"
   ]
  },
  {
   "cell_type": "code",
   "execution_count": null,
   "id": "42a87090-7fe4-490d-9925-bb23872107ad",
   "metadata": {},
   "outputs": [],
   "source": [
    "# 별을 찍는 프린트에는 \"*\"과 같이 한개의 별찍기만 가능합니다\n",
    "print(\"*\")\n",
    "# print 사용시 줄을 변경하고 싶지 않을 때에는 어떤 옵션을 사용하는지 기억하세요"
   ]
  },
  {
   "cell_type": "code",
   "execution_count": null,
   "id": "503cc714-7a2a-4420-a45d-e0b75c4bd486",
   "metadata": {},
   "outputs": [],
   "source": []
  },
  {
   "cell_type": "code",
   "execution_count": null,
   "id": "d359dcf0-7a84-4a24-b027-e897c5c3b4c6",
   "metadata": {},
   "outputs": [],
   "source": []
  },
  {
   "cell_type": "markdown",
   "id": "bd266a29",
   "metadata": {},
   "source": [
    "이 예제는 중첩된 두 개의 `for` 문을 사용하여 `i`와 `j`의 조합을 출력합니다."
   ]
  },
  {
   "cell_type": "markdown",
   "id": "96a57f3b",
   "metadata": {},
   "source": [
    "## 5. 종합 연습 문제"
   ]
  },
  {
   "cell_type": "markdown",
   "id": "c8725ebf",
   "metadata": {},
   "source": [
    "1. 1부터 10까지의 숫자를 출력하되, 3의 배수는 건너뛰는 프로그램을 작성하세요.\n",
    "2. 주어진 리스트의 요소를 하나씩 출력하되, 숫자 7을 만나면 반복을 종료하는 프로그램을 작성하세요.\n",
    "   [3,8,4,1,7,9,5,4]"
   ]
  },
  {
   "cell_type": "code",
   "execution_count": null,
   "id": "d591af5a-76ef-4480-a4c0-058d2a59cd5f",
   "metadata": {},
   "outputs": [],
   "source": []
  }
 ],
 "metadata": {
  "kernelspec": {
   "display_name": "Python 3 (ipykernel)",
   "language": "python",
   "name": "python3"
  },
  "language_info": {
   "codemirror_mode": {
    "name": "ipython",
    "version": 3
   },
   "file_extension": ".py",
   "mimetype": "text/x-python",
   "name": "python",
   "nbconvert_exporter": "python",
   "pygments_lexer": "ipython3",
   "version": "3.9.21"
  }
 },
 "nbformat": 4,
 "nbformat_minor": 5
}
