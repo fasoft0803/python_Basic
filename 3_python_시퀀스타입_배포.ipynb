{
 "cells": [
  {
   "cell_type": "markdown",
   "id": "310c306d",
   "metadata": {},
   "source": [
    "# Python Sequence Types"
   ]
  },
  {
   "cell_type": "markdown",
   "id": "9828bd02",
   "metadata": {},
   "source": [
    "이 노트북에서는 Python의 시퀀스 자료형(리스트, 튜플, 문자열, range)에 대해 학습할 것입니다."
   ]
  },
  {
   "cell_type": "markdown",
   "id": "e5bcfdc7-e147-41f4-af0f-6e629c02f334",
   "metadata": {},
   "source": [
    "파이썬에서 **시퀀스 자료형**은 데이터를 **순서대로** 저장하는 데이터 구조입니다.   \r\n",
    "각 요소는 고유한 **인덱스**를 가지며, 이를 통해 **직접 접근**할 수 있습니다.\r\n",
    "\r\n",
    "### 시퀀스 자료형의 주요 특징:\r\n",
    "\r\n",
    "1. **순서가 있는 데이터 구조**:\r\n",
    "   - 요소들은 입력된 순서에 따라 나열됩니다.  \r\n",
    "     따라서 시퀀스 자료형은 요소 간의 순서가 매우 중요합니다.\r\n",
    "\r\n",
    "2. **인덱싱 가능**:\r\n",
    "   - 시퀀스 내의 각 요소는 0을 시작으로 하는 **인덱스**를 가집니다.  \r\n",
    "     이를 통해 개별 요소에 접근할 수 있습니다.  \r\n",
    "     예를 들어, `my_list[0]`은 리스트의 첫 번째 요소를 반환합니다.\r\n",
    "\r\n",
    "3. **슬라이싱(Slicing)**:\r\n",
    "   - 인덱스를 사용하여 시퀀스의 일부분을 **추출**할 수 있습니다.  \r\n",
    "     슬라이싱 구문은 `[시, 끝:간격]` 형식을 따르며,\n",
    "\n",
    "\n",
    "     범위를 설정합니다.\r\n",
    "     예를 들어, `my_list[1:3]`은 두 번째와 세 번째 요소를 포함하는 4로운 리스트를 반환합니다.\r\n",
    "\r\n",
    "4. **반복 가능(Iterable)**:\r\n",
    "   - 시퀀스 자료형은 **반복문**을 사용해 각 요소를 순서대로 처리할 수 있습니다.  \r\n",
    "     `for` 문을 사용하여 시퀀스 내의 데이터를 효과적으로 다룰 수 있습니다."
   ]
  },
  {
   "cell_type": "code",
   "execution_count": null,
   "id": "4a41b66e-b9f6-4169-bc0e-8407030dd750",
   "metadata": {},
   "outputs": [],
   "source": []
  },
  {
   "cell_type": "markdown",
   "id": "6f406122-47b6-4a7d-a949-9c60c4500fb6",
   "metadata": {},
   "source": [
    "## 1. 리스트"
   ]
  },
  {
   "cell_type": "markdown",
   "id": "295c0c8f",
   "metadata": {},
   "source": [
    "리스트는 여러 값을 순서대로 저장할 수 있는 자료형입니다."
   ]
  },
  {
   "cell_type": "code",
   "execution_count": 1,
   "id": "775c5fc4",
   "metadata": {},
   "outputs": [
    {
     "name": "stdout",
     "output_type": "stream",
     "text": [
      "['apple', 'banana', 'cherry']\n"
     ]
    }
   ],
   "source": [
    "# 리스트 생성\n",
    "fruits = [\"apple\", \"banana\", \"cherry\"]\n",
    "print(fruits)"
   ]
  },
  {
   "cell_type": "code",
   "execution_count": 2,
   "id": "29d6c3cf-dba8-4adf-b479-3c34b014680b",
   "metadata": {},
   "outputs": [
    {
     "name": "stdout",
     "output_type": "stream",
     "text": [
      "<class 'list'>\n"
     ]
    }
   ],
   "source": [
    "print(type(fruits))"
   ]
  },
  {
   "cell_type": "code",
   "execution_count": 9,
   "id": "5160979c-0b1d-4436-9108-93fdf5aabdae",
   "metadata": {},
   "outputs": [
    {
     "name": "stdout",
     "output_type": "stream",
     "text": [
      "banana\n",
      "apple\n"
     ]
    }
   ],
   "source": [
    "print(fruits[1])\n",
    "print(fruits[-3])"
   ]
  },
  {
   "cell_type": "code",
   "execution_count": 10,
   "id": "ba82211b-e6e9-4ae1-90f0-893a7ed8d0b8",
   "metadata": {},
   "outputs": [
    {
     "name": "stdout",
     "output_type": "stream",
     "text": [
      "462\n"
     ]
    }
   ],
   "source": [
    "NOs = [143, 453, 462, 744]\n",
    "print(NOs[2])"
   ]
  },
  {
   "cell_type": "code",
   "execution_count": 11,
   "id": "fca3eb0e-0bab-4fbb-996f-ee60463e6a38",
   "metadata": {},
   "outputs": [
    {
     "name": "stdout",
     "output_type": "stream",
     "text": [
      "[143, 453, 0, 744]\n"
     ]
    }
   ],
   "source": [
    "NOs[2] = 0\n",
    "print(NOs)"
   ]
  },
  {
   "cell_type": "code",
   "execution_count": 12,
   "id": "2f3459fd-05be-4ff8-a24e-05aba0f7fa72",
   "metadata": {},
   "outputs": [
    {
     "name": "stdout",
     "output_type": "stream",
     "text": [
      "['apple', 'banana', 'cherry', 'orange']\n"
     ]
    }
   ],
   "source": [
    "# 리스트에 값 추가\n",
    "fruits.append(\"orange\")\n",
    "print(fruits)"
   ]
  },
  {
   "cell_type": "code",
   "execution_count": 12,
   "id": "b58ab275-eeef-4cc0-a488-dd5c4ad51825",
   "metadata": {},
   "outputs": [],
   "source": [
    "my_l = [   [1,2,3]   ,    [4,5,6]   ]"
   ]
  },
  {
   "cell_type": "code",
   "execution_count": 13,
   "id": "bcb57cd1-7003-4493-96e9-6c25605f5aa9",
   "metadata": {},
   "outputs": [
    {
     "name": "stdout",
     "output_type": "stream",
     "text": [
      "[[1, 2, 3], [4, 5, 6]]\n"
     ]
    }
   ],
   "source": [
    "print(my_l)"
   ]
  },
  {
   "cell_type": "code",
   "execution_count": 15,
   "id": "c1970e6b-c5f5-4fc3-9691-335bc0d1030d",
   "metadata": {},
   "outputs": [
    {
     "name": "stdout",
     "output_type": "stream",
     "text": [
      "3\n"
     ]
    }
   ],
   "source": [
    "print(my_l[0][2])"
   ]
  },
  {
   "cell_type": "markdown",
   "id": "d987c33b",
   "metadata": {},
   "source": [
    "리스트는 대괄호로 감싸고, `append()` 메서드를 사용하여 값을 추가할 수 있습니다."
   ]
  },
  {
   "cell_type": "markdown",
   "id": "f76bc406",
   "metadata": {},
   "source": [
    "## 2. 튜플"
   ]
  },
  {
   "cell_type": "markdown",
   "id": "d83d44b6",
   "metadata": {},
   "source": [
    "튜플은 리스트와 유사하지만, 한 번 생성되면 값을 변경할 수 없습니다.  \n",
    "튜플은 불변(immutable) 자료형입니다.  \n",
    "즉, 한 번 생성된 튜플은 그 내부 요소를 변경할 수 없습니다.  \n",
    "이 특징 덕분에 튜플은 데이터를 안전하게 보호해야 할 때 유용합니다.  \n",
    "예를 들어, 프로그램에서 값을 변경할 필요가 없거나 변경이 되면 안 되는 데이터를 저장할 때 튜플을 사용하면 의도치 않은 변경을 방지할 수 있습니다.  \n",
    "또한 함수가 여러 값을 반환할 때 튜플을 많이 사용합니다.  \n",
    "튜플은 여러 값을 하나의 패키지로 묶어서 반환할 수 있으며, 튜플의 불변성 덕분에 반환된 값을 안전하게 처리할 수 있습니다.  \n",
    "예를 들어, 좌표 값을 반환하거나, 상태 코드와 메시지를 함께 반환하는 경우 튜플을 사용하여 두 개 이상의 값을 전달할 수 있습니다.\n",
    "\n"
   ]
  },
  {
   "cell_type": "code",
   "execution_count": 10,
   "id": "39aab96b",
   "metadata": {},
   "outputs": [
    {
     "name": "stdout",
     "output_type": "stream",
     "text": [
      "(10, 20)\n",
      "x: 10 y: 20\n"
     ]
    }
   ],
   "source": [
    "# 튜플 생성\n",
    "point = (10, 20)\n",
    "print(point)\n",
    "\n",
    "# 튜플의 값을 접근\n",
    "print(\"x:\", point[0], \"y:\", point[1])"
   ]
  },
  {
   "cell_type": "markdown",
   "id": "599ce8c9",
   "metadata": {},
   "source": [
    "튜플은 소괄호로 감싸며, 리스트와 달리 값을 변경할 수 없습니다."
   ]
  },
  {
   "cell_type": "markdown",
   "id": "34d780d7",
   "metadata": {},
   "source": [
    "## 3. 문자열"
   ]
  },
  {
   "cell_type": "markdown",
   "id": "6fbe87b1",
   "metadata": {},
   "source": [
    "문자열은 문자들의 시퀀스로, 텍스트 데이터를 다룰 때 사용됩니다."
   ]
  },
  {
   "cell_type": "code",
   "execution_count": 13,
   "id": "c29583a2-057b-4b2a-920a-be94f33728ba",
   "metadata": {},
   "outputs": [
    {
     "name": "stdout",
     "output_type": "stream",
     "text": [
      "Hello, World!\n"
     ]
    }
   ],
   "source": [
    "# 문자열 생성\n",
    "greeting = \"Hello, World!\"\n",
    "print(greeting)"
   ]
  },
  {
   "cell_type": "code",
   "execution_count": 14,
   "id": "09b9b663-e9d7-4312-ba00-5f6b1e8ab58a",
   "metadata": {},
   "outputs": [
    {
     "name": "stdout",
     "output_type": "stream",
     "text": [
      "<class 'str'>\n"
     ]
    }
   ],
   "source": [
    "print(type(greeting))"
   ]
  },
  {
   "cell_type": "code",
   "execution_count": 15,
   "id": "6f21b934-b06a-420f-a8ae-4139ac21c97c",
   "metadata": {},
   "outputs": [
    {
     "name": "stdout",
     "output_type": "stream",
     "text": [
      ",   W\n"
     ]
    }
   ],
   "source": [
    "print(greeting[5],greeting[6],greeting[7])"
   ]
  },
  {
   "cell_type": "code",
   "execution_count": 22,
   "id": "f3de12b9-7730-4515-94f4-dd34c765ebbc",
   "metadata": {},
   "outputs": [
    {
     "name": "stdout",
     "output_type": "stream",
     "text": [
      "[3, 4, 5, 6, 7, 8, 9]\n"
     ]
    }
   ],
   "source": [
    "print(list(range(3,10)))"
   ]
  },
  {
   "cell_type": "code",
   "execution_count": 24,
   "id": "92345e07-add2-4a0b-bd56-9cd11fc1ad3d",
   "metadata": {},
   "outputs": [
    {
     "name": "stdout",
     "output_type": "stream",
     "text": [
      "[10, 9, 8, 7, 6, 5, 4, 3, 2, 1]\n"
     ]
    }
   ],
   "source": [
    "print(list(range(10,0,-1)))"
   ]
  },
  {
   "cell_type": "code",
   "execution_count": 25,
   "id": "876d3e76-68b6-4391-889f-d2476e95bcd7",
   "metadata": {},
   "outputs": [
    {
     "data": {
      "text/plain": [
       "'Hello, World!'"
      ]
     },
     "execution_count": 25,
     "metadata": {},
     "output_type": "execute_result"
    }
   ],
   "source": [
    "greeting"
   ]
  },
  {
   "cell_type": "code",
   "execution_count": 27,
   "id": "96ffc03c",
   "metadata": {},
   "outputs": [
    {
     "name": "stdout",
     "output_type": "stream",
     "text": [
      "Hello\n",
      "World!\n"
     ]
    }
   ],
   "source": [
    "# 문자열 슬라이싱\n",
    "print(greeting[0:5])  # 'Hello' 출력\n",
    "print(greeting[-6:])  # 'World!' 출력"
   ]
  },
  {
   "cell_type": "markdown",
   "id": "4eb84c4b",
   "metadata": {},
   "source": [
    "문자열은 인덱싱과 슬라이싱을 통해 부분 문자열에 접근할 수 있습니다."
   ]
  },
  {
   "cell_type": "code",
   "execution_count": 30,
   "id": "42195ba1-f2d4-492c-8bb1-b79a927fbd05",
   "metadata": {},
   "outputs": [
    {
     "name": "stdout",
     "output_type": "stream",
     "text": [
      "range(0, 10, 2)\n"
     ]
    }
   ],
   "source": [
    "print(range(0,10,2))"
   ]
  },
  {
   "cell_type": "code",
   "execution_count": 28,
   "id": "79cd9ab2-bca9-466f-a74a-0339116afafa",
   "metadata": {},
   "outputs": [
    {
     "name": "stdout",
     "output_type": "stream",
     "text": [
      "[0, 2, 4, 6, 8]\n"
     ]
    }
   ],
   "source": [
    "my_l = list(range(0,10,2))\n",
    "print(my_l)"
   ]
  },
  {
   "cell_type": "code",
   "execution_count": 30,
   "id": "5864c0f4-3262-4616-b322-733f966bf8b2",
   "metadata": {},
   "outputs": [
    {
     "name": "stdout",
     "output_type": "stream",
     "text": [
      "World!\n"
     ]
    }
   ],
   "source": [
    "print(greeting[-6:]) "
   ]
  },
  {
   "cell_type": "code",
   "execution_count": null,
   "id": "a28299a5-db4c-400b-b68a-03f9bebf3c39",
   "metadata": {},
   "outputs": [],
   "source": []
  },
  {
   "cell_type": "markdown",
   "id": "060b445b",
   "metadata": {},
   "source": [
    "## 4. range"
   ]
  },
  {
   "cell_type": "markdown",
   "id": "7ea06b8b-24ad-4861-9c25-37f0c9c4fcc3",
   "metadata": {},
   "source": [
    "`range`는 파이썬에서 정수의 시퀀스를 생성하는 함수로, 주로 **반복문**에서 사용됩니다.  \n",
    "`range`는 주어진 범위에 대한 정수 리스트를 효율적으로 생성하며, 필요할 때마다 값을 생성하는 **이터레이터**로 동작합니다.\n",
    "\n",
    "### `range` 함수의 기본 형태\n",
    "\n",
    "`range`는 세 가지 형태로 사용할 수 있습니다:\n",
    "1. `range(stop)`\n",
    "2. `range(start, stop)`\n",
    "3. `range(start, stop, step)`\n",
    "\n",
    "### `range` 함수의 매개변수\n",
    "- `start`: 정수 시퀀스의 **시작 값** (기본값: 0)\n",
    "- `stop`: **종료 값**으로, 해당 값은 **포함되지 않습니다**.  \n",
    "- `step`: 정수 사이의 간격을 지정하는 **증가 값** (기본값: 1)"
   ]
  },
  {
   "cell_type": "code",
   "execution_count": 2,
   "id": "a79645fb-434b-4bbe-a026-36f9016a802e",
   "metadata": {},
   "outputs": [
    {
     "name": "stdout",
     "output_type": "stream",
     "text": [
      "range(0, 5)\n"
     ]
    }
   ],
   "source": [
    "print(range(5))"
   ]
  },
  {
   "cell_type": "markdown",
   "id": "0ae7a0ee-c1d8-4f75-af09-9f1e5b2d468e",
   "metadata": {},
   "source": [
    "range는 기본적으로 메모리에 값을 모두 저장하지 않고 필요할 때 값을 생성하는 이터레이터입니다.  \n",
    "따라서 range의 값을 모두 확인하거나 리스트처럼 처리하려면 리스트로 언팩해야 합니다.  \n",
    "이때 list() 함수를 사용하여 range 객체를 리스트로 변환할 수 있습니다."
   ]
  },
  {
   "cell_type": "code",
   "execution_count": 3,
   "id": "2c166c06-6cc0-48cf-91e0-d948489c68a9",
   "metadata": {},
   "outputs": [
    {
     "name": "stdout",
     "output_type": "stream",
     "text": [
      "[0, 1, 2, 3, 4]\n"
     ]
    }
   ],
   "source": [
    "# range 객체를 리스트로 변환\n",
    "my_list = list(range(5))\n",
    "print(my_list)"
   ]
  },
  {
   "cell_type": "code",
   "execution_count": 4,
   "id": "065f0924-1f54-45ad-b78d-99c0ca52d8dc",
   "metadata": {},
   "outputs": [
    {
     "name": "stdout",
     "output_type": "stream",
     "text": [
      "[2, 3, 4, 5, 6]\n"
     ]
    }
   ],
   "source": [
    "# 2부터 6까지 생성 (7은 포함되지 않음)\n",
    "print(list(range(2, 7)))"
   ]
  },
  {
   "cell_type": "code",
   "execution_count": 5,
   "id": "559470f5-08d3-48a9-89e6-d4e849e7e808",
   "metadata": {},
   "outputs": [
    {
     "name": "stdout",
     "output_type": "stream",
     "text": [
      "[1, 3, 5, 7, 9]\n"
     ]
    }
   ],
   "source": [
    "# 1부터 9까지 2씩 증가\n",
    "print(list(range(1, 10, 2)))"
   ]
  },
  {
   "cell_type": "code",
   "execution_count": 6,
   "id": "ade721dd-84d9-4b95-8a5a-0b577426a9f0",
   "metadata": {},
   "outputs": [
    {
     "name": "stdout",
     "output_type": "stream",
     "text": [
      "[10, 8, 6, 4, 2]\n"
     ]
    }
   ],
   "source": [
    "# 10부터 2까지 2씩 감소\n",
    "print(list(range(10, 0, -2)))"
   ]
  },
  {
   "cell_type": "code",
   "execution_count": null,
   "id": "15a4aa86-4e3c-4b1f-81ad-218941a89d5e",
   "metadata": {},
   "outputs": [],
   "source": []
  },
  {
   "cell_type": "markdown",
   "id": "2935ecd6-c80d-4a25-8649-f668da2044ff",
   "metadata": {},
   "source": [
    "## 5. 시퀀스 연산"
   ]
  },
  {
   "cell_type": "markdown",
   "id": "9a15b7a9",
   "metadata": {},
   "source": [
    "리스트, 튜플, 문자열 모두 시퀀스 자료형이므로 공통된 연산을 사용할 수 있습니다."
   ]
  },
  {
   "cell_type": "code",
   "execution_count": 31,
   "id": "b5bd2c3e-bf24-4604-ae00-fc6c07749ec3",
   "metadata": {},
   "outputs": [
    {
     "name": "stdout",
     "output_type": "stream",
     "text": [
      "['apple', 'banana', 'cherry', 'orange', 'apple', 'banana', 'cherry', 'orange']\n"
     ]
    }
   ],
   "source": [
    "# 시퀀스 반복\n",
    "print(fruits * 2)"
   ]
  },
  {
   "cell_type": "code",
   "execution_count": 32,
   "id": "4f9b5775-56c0-4ab6-94a7-4be85ae113d2",
   "metadata": {},
   "outputs": [
    {
     "name": "stdout",
     "output_type": "stream",
     "text": [
      "['apple', 'banana', 'cherry', 'orange', 'kiwi', 'melon']\n"
     ]
    }
   ],
   "source": [
    "# 시퀀스 연결\n",
    "print(fruits + [\"kiwi\", \"melon\"])"
   ]
  },
  {
   "cell_type": "code",
   "execution_count": 34,
   "id": "53f6e681-5a88-4fdb-9acf-3e5121d6f82e",
   "metadata": {},
   "outputs": [
    {
     "name": "stdout",
     "output_type": "stream",
     "text": [
      "Hello, World!\n"
     ]
    }
   ],
   "source": [
    "print(greeting)"
   ]
  },
  {
   "cell_type": "code",
   "execution_count": 33,
   "id": "15b2dc0f",
   "metadata": {},
   "outputs": [
    {
     "name": "stdout",
     "output_type": "stream",
     "text": [
      "4\n",
      "13\n"
     ]
    }
   ],
   "source": [
    "# 시퀀스 길이\n",
    "print(len(fruits))\n",
    "print(len(greeting))"
   ]
  },
  {
   "cell_type": "markdown",
   "id": "7c54c336",
   "metadata": {},
   "source": [
    "시퀀스 자료형은 반복(`*`), 연결(`+`), 길이(`len()`) 등의 연산이 가능합니다."
   ]
  },
  {
   "cell_type": "markdown",
   "id": "206c14ef",
   "metadata": {},
   "source": [
    "## 5. 연습 문제"
   ]
  },
  {
   "cell_type": "markdown",
   "id": "597662d9",
   "metadata": {},
   "source": [
    "1. 세 개의 과일 이름을 리스트에 저장하고, 이를 출력하는 프로그램을 작성하세요.\n",
    "2. 좌표를 나타내는 튜플을 생성하고, x와 y 값을 각각 출력하세요.\n",
    "3. 문자열을 입력받아, 그 문자열의 첫 문자와 마지막 문자를 출력하는 프로그램을 작성하세요.\n",
    "4. greeting = \"안녕하세요\"  \n",
    "   문자열 greeting에서 \"안녕\"을 출력하도록 작성하세요."
   ]
  },
  {
   "cell_type": "code",
   "execution_count": null,
   "id": "ee71a7f4-ef54-4365-a19f-84ad0c08f3eb",
   "metadata": {},
   "outputs": [],
   "source": []
  }
 ],
 "metadata": {
  "kernelspec": {
   "display_name": "Python 3 (ipykernel)",
   "language": "python",
   "name": "python3"
  },
  "language_info": {
   "codemirror_mode": {
    "name": "ipython",
    "version": 3
   },
   "file_extension": ".py",
   "mimetype": "text/x-python",
   "name": "python",
   "nbconvert_exporter": "python",
   "pygments_lexer": "ipython3",
   "version": "3.9.21"
  }
 },
 "nbformat": 4,
 "nbformat_minor": 5
}
