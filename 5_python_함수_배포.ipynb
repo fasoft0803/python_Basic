{
 "cells": [
  {
   "cell_type": "markdown",
   "id": "e6c94c33",
   "metadata": {},
   "source": [
    "# Python Functions"
   ]
  },
  {
   "cell_type": "markdown",
   "id": "5f6a7a9c",
   "metadata": {},
   "source": [
    "이 노트북에서는 Python의 함수에 대해 학습할 것입니다."
   ]
  },
  {
   "cell_type": "markdown",
   "id": "976b25f6-9fbb-4fd6-b899-a851c76edcd1",
   "metadata": {},
   "source": [
    "파이썬의 **함수**는 자판기의 작동 방식과 아주 비슷합니다. \n",
    "\n",
    "### 1. **자판기?!**\n",
    "\n",
    "자판기는 우리가 원하는 음료를 선택하면 그 음료를 만들어 주는 기계입니다.  \n",
    "버튼을 누르고 기다리면 그에 맞는 음료가 나옵니다.  \n",
    "우리는 음료를 만들기 위한 복잡한 과정에 신경 쓸 필요가 없고, 자판기만 잘 사용하면 됩니다.  \n",
    "파이썬에서 **함수**도 이런 자판기처럼, 우리가 자주 사용하는 코드나 복잡한 계산을 미리 정해둔 작업으로 처리해 줍니다.  \n",
    "자판기처럼 함수를 사용하기만 하면 우리는 필요한 작업을 쉽게 실행할 수 있습니다.  \n",
    "\n",
    "### 2. **입력과 출력**\n",
    "\n",
    "자판기를 사용하려면 먼저 원하는 음료를 선택해야 합니다.  \n",
    "자판기에는 여러 가지 음료가 있을 수 있죠.  \n",
    "이때 음료 선택이 바로 **함수의 입력(파라미터)**에 해당합니다.   \n",
    "자판기에 \"커피\" 버튼을 누르면 커피가 나오고, \"주스\" 버튼을 누르면 주스가 나오는 것처럼 함수도 입력에 따라 다른 결과를 반환합니다.\n",
    "\n",
    "즉, 자판기가 버튼을 누르면 그에 맞는 음료를 내놓는 것처럼, 함수도 입력에 맞는 결과를 반환합니다.  \n",
    "자판기에서 음료가 나오는 것이 함수의 **출력(결과)**라고 할 수 있죠.\n",
    "\n",
    "### 3. **함수를 사용하는 이유**\n",
    "\n",
    "자판기는 우리가 직접 음료를 만들 필요 없이 버튼을 누르기만 하면 원하는 음료를 만들어 줍니다.   \n",
    "이는 우리가 시간을 절약하고 편리하게 음료를 얻을 수 있게 해줍니다.\n",
    "\n",
    "마찬가지로, **함수**도 여러 번 사용해야 하는 복잡한 작업을 미리 정의해 두면,   \n",
    "그 작업을 다시 작성하지 않고 함수만 호출해서 간단히 처리할 수 있습니다.   \n",
    "즉, 복잡한 과정을 쉽게 반복해서 사용할 수 있게 만들어 주는 도구입니다.\n",
    "\n",
    "**************************************************\n",
    "자판기처럼, 함수도 **입력(음료 선택)**에 따라 **출력(음료)**을 반환하는 작업을 합니다.   \n",
    "자판기는 우리가 매번 직접 음료를 만들 필요 없이 버튼만 누르면 되는 것처럼,   \n",
    "함수도 미리 정의된 작업을 손쉽게 수행하게 도와줍니다.   \n",
    "초보자들이 함수를 이해할 때 자판기의 작동 원리와 비교해 생각하면, 함수의 기본 개념을 쉽게 파악할 수 있습니다."
   ]
  },
  {
   "cell_type": "markdown",
   "id": "65c0b421",
   "metadata": {},
   "source": [
    "## 1. 함수 정의하기"
   ]
  },
  {
   "cell_type": "markdown",
   "id": "86a6848f",
   "metadata": {},
   "source": [
    "함수는 `def` 키워드를 사용하여 정의됩니다."
   ]
  },
  {
   "cell_type": "code",
   "execution_count": 1,
   "id": "6a06cf65",
   "metadata": {},
   "outputs": [
    {
     "name": "stdout",
     "output_type": "stream",
     "text": [
      "Hello, World!\n"
     ]
    }
   ],
   "source": [
    "def greet(): #정의\n",
    "    print(\"Hello, World!\")\n",
    "\n",
    "greet() #호출 -> 사용\n"
   ]
  },
  {
   "cell_type": "code",
   "execution_count": 2,
   "id": "7eb24f17-7602-4bb4-9788-ad5425d20bd6",
   "metadata": {},
   "outputs": [
    {
     "name": "stdout",
     "output_type": "stream",
     "text": [
      "Hello, World!\n",
      "Hello, World!\n",
      "Hello, World!\n"
     ]
    }
   ],
   "source": [
    "greet() #호출 -> 사용\n",
    "greet() #호출 -> 사용\n",
    "greet() #호출 -> 사용"
   ]
  },
  {
   "cell_type": "code",
   "execution_count": 3,
   "id": "b6321ae3-735b-4c16-ac6f-044b1c988fd7",
   "metadata": {},
   "outputs": [
    {
     "name": "stdout",
     "output_type": "stream",
     "text": [
      "Hello, World!\n",
      "Hello, World!\n",
      "Hello, World!\n",
      "Hello, World!\n",
      "Hello, World!\n",
      "Hello, World!\n",
      "Hello, World!\n",
      "Hello, World!\n",
      "Hello, World!\n",
      "Hello, World!\n"
     ]
    }
   ],
   "source": [
    "for i in range(10):\n",
    "    greet()"
   ]
  },
  {
   "cell_type": "code",
   "execution_count": 4,
   "id": "a12337ab-30d6-46fa-acac-b43cb2c434cf",
   "metadata": {},
   "outputs": [
    {
     "name": "stdout",
     "output_type": "stream",
     "text": [
      "Hello, World!\n",
      "Hi!\n"
     ]
    }
   ],
   "source": [
    "def greet1(): #정의\n",
    "    print(\"Hello, World!\")\n",
    "    print(\"Hi!\")\n",
    "\n",
    "greet1()"
   ]
  },
  {
   "cell_type": "code",
   "execution_count": 1,
   "id": "1fcfb94e-566c-4586-b19b-f8b398ec6f44",
   "metadata": {},
   "outputs": [
    {
     "name": "stdout",
     "output_type": "stream",
     "text": [
      "Hello, World!\n",
      "Hello, World!\n",
      "Hello, World!\n",
      "Hello, World!\n",
      "Hello, World!\n"
     ]
    }
   ],
   "source": [
    "#함수 안에서도 반복문, 조건문등 사용 가능\n",
    "def greet_for(): #정의\n",
    "    for i in range(5):\n",
    "        print(\"Hello, World!\")\n",
    "\n",
    "greet_for()"
   ]
  },
  {
   "cell_type": "code",
   "execution_count": null,
   "id": "76dddff0-0b10-4c37-b94a-9df2268a14d8",
   "metadata": {},
   "outputs": [],
   "source": []
  },
  {
   "cell_type": "code",
   "execution_count": null,
   "id": "61eea037-685a-4051-8a78-6a7c1769cfaa",
   "metadata": {},
   "outputs": [],
   "source": []
  },
  {
   "cell_type": "markdown",
   "id": "6732f88f",
   "metadata": {},
   "source": [
    "## 2. 매개변수와 반환값"
   ]
  },
  {
   "cell_type": "markdown",
   "id": "9bf98ed7",
   "metadata": {},
   "source": [
    "함수는 매개변수를 받아들이고 값을 반환할 수 있습니다."
   ]
  },
  {
   "cell_type": "markdown",
   "id": "9c1d6141-c074-4cfa-9672-5fa9d7d63580",
   "metadata": {},
   "source": [
    "**매개변수**는 함수에 전달하는 **입력값**을 의미합니다.   \n",
    "마치 자판기에서 커피나 주스를 선택하는 것처럼, 함수도 어떤 값을 입력받아 작업을 수행합니다.\r\n",
    "\r\n",
    "**반환**은 함수가 수행한 작업의 **결과값**을 돌려주는 것을 의미합니다  \n",
    ". 자판기에서 커피를 선택하면 그 결과로 커피가 나오는 것처럼, 함수도 입력에 따라 결과를 반환해 줍니다.\r\n",
    "\r\n",
    "따라서, **매개변수는 함수에 주는 값**, **반환값은 함수가 돌려주는 값**이라고 이해할 수 있습니다."
   ]
  },
  {
   "cell_type": "code",
   "execution_count": 2,
   "id": "52249255-d941-423a-9aa2-a4c8e04a5f3b",
   "metadata": {},
   "outputs": [
    {
     "name": "stdout",
     "output_type": "stream",
     "text": [
      "7\n"
     ]
    }
   ],
   "source": [
    "def add_basic():\n",
    "    print(3+4)\n",
    "\n",
    "add_basic()"
   ]
  },
  {
   "cell_type": "code",
   "execution_count": 5,
   "id": "2e84f8ef-cdd5-48f7-95c4-a190d276f192",
   "metadata": {},
   "outputs": [
    {
     "name": "stdout",
     "output_type": "stream",
     "text": [
      "28\n",
      "-16\n",
      "3.29\n",
      "51\n",
      "60\n",
      "26.29\n"
     ]
    }
   ],
   "source": [
    "def add(d1, d2):\n",
    "    print(d1 + d2)\n",
    "    \n",
    "add(13, 15)\n",
    "add(-25, 9)\n",
    "add(0.14, 3.15)\n",
    "\n",
    "def add2(d1, d2, d3):\n",
    "    print(d1 + d2 + d3)\n",
    "    \n",
    "add2(13, 15, 23)\n",
    "add2(-25, 9, 76)\n",
    "add2(0.14, 3.15, 23)"
   ]
  },
  {
   "cell_type": "code",
   "execution_count": null,
   "id": "8e7d833d-a44e-4483-b322-bd6dedc2dec1",
   "metadata": {},
   "outputs": [],
   "source": []
  },
  {
   "cell_type": "code",
   "execution_count": null,
   "id": "2d2503b4-6f26-493a-8cee-4dd88bb94a80",
   "metadata": {},
   "outputs": [],
   "source": []
  },
  {
   "cell_type": "code",
   "execution_count": null,
   "id": "4e12dafb-a157-40bb-ac5b-ecc6fdb795e7",
   "metadata": {},
   "outputs": [],
   "source": []
  },
  {
   "cell_type": "code",
   "execution_count": 8,
   "id": "c3f85041",
   "metadata": {},
   "outputs": [
    {
     "name": "stdout",
     "output_type": "stream",
     "text": [
      "더하기 결과: 28\n",
      "Sum: 6\n",
      "Sum: 9\n",
      "Sum: 284\n"
     ]
    }
   ],
   "source": [
    "def add(d1, d2):\n",
    "    return d1 + d2\n",
    "\n",
    "result = add(13, 15)\n",
    "print(\"더하기 결과:\", result)\n",
    "print(\"Sum:\", add(1, 5))\n",
    "print(\"Sum:\", add(2, 7))\n",
    "print(\"Sum:\", add(123, 125) + add(11, 25))\n"
   ]
  },
  {
   "cell_type": "code",
   "execution_count": 10,
   "id": "21fe4ac4-af70-4b08-b177-09042e87a26c",
   "metadata": {},
   "outputs": [
    {
     "name": "stdout",
     "output_type": "stream",
     "text": [
      "Sum: 28\n"
     ]
    }
   ],
   "source": [
    "def add(d1, d2):\n",
    "    return d1 + d2\n",
    "\n",
    "print(\"Sum:\", add(13, 15))"
   ]
  },
  {
   "cell_type": "code",
   "execution_count": null,
   "id": "dd16e39e-80a7-49e3-b196-37d84c934d0b",
   "metadata": {},
   "outputs": [],
   "source": []
  },
  {
   "cell_type": "markdown",
   "id": "a757b62a-f04c-4bf9-aba2-eeac9df29733",
   "metadata": {},
   "source": [
    "### 연습문제 1) 세개의 숫자를 곱해서 return 하는 함수\n",
    "메인 코드에서는 표준 입력으로 숫자 세 개를 사용자로부터 입력 받음  \n",
    "입력받은 숫자를 인수로 넘겨줌\n",
    "함수는 세개의 숫자를 곱해서 return  \n",
    "함수를 호출하여 결과를 화면에 표시하기  \n"
   ]
  },
  {
   "cell_type": "code",
   "execution_count": null,
   "id": "98830715-6bb6-4c9b-b7d8-a4b3c3b8c7e7",
   "metadata": {},
   "outputs": [],
   "source": []
  },
  {
   "cell_type": "code",
   "execution_count": null,
   "id": "067b4139-2080-4c62-b114-fa5388849a85",
   "metadata": {},
   "outputs": [],
   "source": []
  },
  {
   "cell_type": "code",
   "execution_count": null,
   "id": "bf5af3c3-8d62-4f69-857b-9b8ef3486a5f",
   "metadata": {},
   "outputs": [],
   "source": []
  },
  {
   "cell_type": "markdown",
   "id": "974e33c1-5f76-407b-8206-a0d2537224e4",
   "metadata": {},
   "source": [
    "파이썬 함수는 여러개의 값을 return  가능"
   ]
  },
  {
   "cell_type": "code",
   "execution_count": 14,
   "id": "4c8e514b-b511-4038-b43e-c76a1ef826b0",
   "metadata": {},
   "outputs": [
    {
     "name": "stdin",
     "output_type": "stream",
     "text": [
      "값 입력 1:  1\n",
      "값 입력 2:  2\n",
      "값 입력 3:  3\n"
     ]
    },
    {
     "name": "stdout",
     "output_type": "stream",
     "text": [
      "세 수의 곱은 6 세 수의 합은 6\n"
     ]
    }
   ],
   "source": [
    "def multy(n1, n2, n3):\n",
    "    return n1*n2*n3, n1+n2+n3\n",
    "\n",
    "d1 = int(input(\"값 입력 1: \"))\n",
    "d2 = int(input(\"값 입력 2: \"))\n",
    "d3 = int(input(\"값 입력 3: \"))\n",
    "result1, result2 = multy(d1,d2,d3)\n",
    "print(\"세 수의 곱은\", result1, \"세 수의 합은\", result2)"
   ]
  },
  {
   "cell_type": "code",
   "execution_count": 15,
   "id": "b5140e36-bd0e-4f0e-b3fb-efb99850cac1",
   "metadata": {},
   "outputs": [
    {
     "name": "stdin",
     "output_type": "stream",
     "text": [
      "값 입력 1:  1\n",
      "값 입력 2:  2\n",
      "값 입력 3:  3\n"
     ]
    },
    {
     "name": "stdout",
     "output_type": "stream",
     "text": [
      "세 수의 곱은 6 세 수의 합은 6\n"
     ]
    }
   ],
   "source": [
    "def multy(n1, n2, n3):\n",
    "    return n1*n2*n3, n1+n2+n3\n",
    "\n",
    "d1 = int(input(\"값 입력 1: \"))\n",
    "d2 = int(input(\"값 입력 2: \"))\n",
    "d3 = int(input(\"값 입력 3: \"))\n",
    "result = multy(d1,d2,d3)\n",
    "print(\"세 수의 곱은\", result[0], \"세 수의 합은\", result[1])"
   ]
  },
  {
   "cell_type": "code",
   "execution_count": null,
   "id": "7425fe9d-6c1e-4e51-9a98-d568543a1b32",
   "metadata": {},
   "outputs": [],
   "source": [
    "print(result)"
   ]
  },
  {
   "cell_type": "markdown",
   "id": "6792dd07-6f93-49ef-998a-632cfd71d90c",
   "metadata": {},
   "source": [
    "### 연습문제 2) 다음 요구사항을 만족하는 함수를 작성하세요.\n",
    "하나의 함수에서 두 개의 숫자를 전달 받습니다.  \n",
    "함수의 매개변수로 두 개의 숫자를 전달합니다.   \n",
    "사용자로부터 입력받은 두 숫자의 합, 차, 그리고 곱을 각각 계산하여 세 가지 결과를 반환해야 합니다.  \n",
    "이 함수를 호출하여 각 결과를 개별 변수에 저장한 후, 그 값을 출력하세요."
   ]
  },
  {
   "cell_type": "code",
   "execution_count": 18,
   "id": "c0701467-0f20-47a0-a606-03ec74222d54",
   "metadata": {},
   "outputs": [
    {
     "name": "stdin",
     "output_type": "stream",
     "text": [
      "Enter the first number:  12\n",
      "Enter the second number:  23\n"
     ]
    },
    {
     "name": "stdout",
     "output_type": "stream",
     "text": [
      "Sum: 35.0, Difference: -11.0, Product: 276.0\n"
     ]
    }
   ],
   "source": []
  },
  {
   "cell_type": "code",
   "execution_count": null,
   "id": "a59fa1ee-3b40-4252-9052-354ddc4c6f15",
   "metadata": {},
   "outputs": [],
   "source": []
  },
  {
   "cell_type": "markdown",
   "id": "f1dd8199",
   "metadata": {},
   "source": [
    "## 3. 기본 매개변수 값"
   ]
  },
  {
   "cell_type": "markdown",
   "id": "dddd0436",
   "metadata": {},
   "source": [
    "매개변수에 기본값을 설정하여 함수 호출 시 생략할 수 있습니다."
   ]
  },
  {
   "cell_type": "code",
   "execution_count": null,
   "id": "48729ec3",
   "metadata": {},
   "outputs": [],
   "source": [
    "def greet(name=\"Guest\"):\n",
    "    print(\"Hello\", name, \"!\")\n",
    "\n",
    "greet()\n",
    "greet(\"Alice\")"
   ]
  },
  {
   "cell_type": "markdown",
   "id": "e1b053fa",
   "metadata": {},
   "source": [
    "첫 번째 호출에서는 매개변수를 생략하여 기본값인 'Guest'가 출력됩니다. 두 번째 호출에서는 'Alice'가 출력됩니다."
   ]
  },
  {
   "cell_type": "markdown",
   "id": "aa23befb",
   "metadata": {},
   "source": [
    "## 4. 가변 인수"
   ]
  },
  {
   "cell_type": "markdown",
   "id": "f71ea7d5",
   "metadata": {},
   "source": [
    "가변 인수를 사용하여 임의 개수의 매개변수를 처리할 수 있습니다."
   ]
  },
  {
   "cell_type": "code",
   "execution_count": null,
   "id": "f068c231",
   "metadata": {},
   "outputs": [],
   "source": [
    "def print_numbers(*args):\n",
    "    for number in args:\n",
    "        print(number)\n",
    "\n",
    "print_numbers(1, 2, 3)\n",
    "print(\"------------\")\n",
    "print_numbers(10, 20)"
   ]
  },
  {
   "cell_type": "markdown",
   "id": "12f97534",
   "metadata": {},
   "source": [
    "`*args`는 임의 개수의 인수를 튜플로 받아서 출력하는 함수입니다."
   ]
  },
  {
   "cell_type": "markdown",
   "id": "a73d26d0",
   "metadata": {},
   "source": [
    "## 5. 연습 문제"
   ]
  },
  {
   "cell_type": "markdown",
   "id": "d55b135a",
   "metadata": {},
   "source": [
    "1. 두 수를 입력받아 그 합을 반환하는 함수를 작성하세요.\n",
    "2. 이름과 나이를 입력받아 환영 메시지를 출력하는 함수를 작성하세요.\n",
    "3. 가변 인수를 받아 모든 인수의 합을 출력하는 함수를 작성하세요."
   ]
  },
  {
   "cell_type": "code",
   "execution_count": null,
   "id": "3112e461-84ea-409b-897d-7ecb6b8eaf1c",
   "metadata": {},
   "outputs": [],
   "source": []
  },
  {
   "cell_type": "code",
   "execution_count": null,
   "id": "b0af8eb3-a156-4e9e-8a5e-dfa09b6e22ff",
   "metadata": {},
   "outputs": [],
   "source": []
  }
 ],
 "metadata": {
  "kernelspec": {
   "display_name": "Python 3 (ipykernel)",
   "language": "python",
   "name": "python3"
  },
  "language_info": {
   "codemirror_mode": {
    "name": "ipython",
    "version": 3
   },
   "file_extension": ".py",
   "mimetype": "text/x-python",
   "name": "python",
   "nbconvert_exporter": "python",
   "pygments_lexer": "ipython3",
   "version": "3.9.21"
  }
 },
 "nbformat": 4,
 "nbformat_minor": 5
}
