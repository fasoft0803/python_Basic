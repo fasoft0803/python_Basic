{
 "cells": [
  {
   "cell_type": "markdown",
   "id": "8ce9fea8",
   "metadata": {},
   "source": [
    "# Python 기본 문법 Review 1"
   ]
  },
  {
   "cell_type": "markdown",
   "id": "ff0cf121",
   "metadata": {},
   "source": [
    "Python의 기본 문법을 복습 - `print`, `input`, 그리고 변수의 개념 심화."
   ]
  },
  {
   "cell_type": "markdown",
   "id": "d7a5f566",
   "metadata": {},
   "source": [
    "## 1. `print()` 함수"
   ]
  },
  {
   "cell_type": "markdown",
   "id": "9aac2785",
   "metadata": {},
   "source": [
    "`print()` 함수는 Python에서 화면에 출력을 할 때 사용됩니다.  \n",
    "예를 들어:"
   ]
  },
  {
   "cell_type": "code",
   "execution_count": 3,
   "id": "65232264",
   "metadata": {},
   "outputs": [
    {
     "name": "stdout",
     "output_type": "stream",
     "text": [
      "Hello, World!\n"
     ]
    }
   ],
   "source": [
    "# 프린트 함수 사용법\n",
    "print(\"Hello, World!\")"
   ]
  },
  {
   "cell_type": "markdown",
   "id": "9ce18ce0",
   "metadata": {},
   "source": [
    "위의 코드는 화면에 `Hello, World!`를 출력합니다."
   ]
  },
  {
   "cell_type": "markdown",
   "id": "8eec9c77",
   "metadata": {},
   "source": [
    "### 파이썬의 기본적인 자료형"
   ]
  },
  {
   "cell_type": "markdown",
   "id": "89bb2418-3d1b-4806-ac85-338630171d71",
   "metadata": {},
   "source": [
    "1. 정수형(int): 정수 값들을 나타냅니다. 음수, 0, 양수 모두 포함됩니다.  \n",
    "10, -5, 0\n",
    "2. 실수형(float): 소수점이 포함된 실수 값을 나타냅니다.  \n",
    "3.14, -2.5, 0.0\n",
    "3. 문자열형(str)  \n",
    "문자나 문자열을 나타내며, 작은 따옴표(') 또는 큰 따옴표(\")로 둘러싸인 문자를 사용합니다.  \n",
    "'hello', \"world\"\n",
    "4. 참/거짓형(bool)  \n",
    "True, False"
   ]
  },
  {
   "cell_type": "code",
   "execution_count": null,
   "id": "d2bd45e8-e7b5-4372-b798-890cea6bc68c",
   "metadata": {},
   "outputs": [],
   "source": []
  },
  {
   "cell_type": "markdown",
   "id": "780c4e66-2ac4-47a0-b84a-ab721a2c2218",
   "metadata": {},
   "source": [
    "### 다양한 자료형 출력하기"
   ]
  },
  {
   "cell_type": "code",
   "execution_count": 2,
   "id": "15df7e0b",
   "metadata": {},
   "outputs": [
    {
     "name": "stdout",
     "output_type": "stream",
     "text": [
      "42\n",
      "Python is fun!\n",
      "[1, 2, 3, 4, 5]\n",
      "True False\n"
     ]
    }
   ],
   "source": [
    "# 정수 출력\n",
    "print(42)\n",
    "\n",
    "# 문자열 출력\n",
    "print(\"Python is fun!\")\n",
    "\n",
    "# 리스트 출력\n",
    "print([1, 2, 3, 4, 5])\n",
    "\n",
    "#Boolean 출력\n",
    "print(True, False)"
   ]
  },
  {
   "cell_type": "markdown",
   "id": "ecfe575f-6ec9-48be-aad4-331f67740acb",
   "metadata": {},
   "source": [
    "### 쉼표(,)를 사용해 print() 함수에서 여러 데이터를 출력"
   ]
  },
  {
   "cell_type": "code",
   "execution_count": 9,
   "id": "97b66981-5879-4c30-9f7d-e48faefc46ed",
   "metadata": {},
   "outputs": [
    {
     "name": "stdout",
     "output_type": "stream",
     "text": [
      "Name: David Age: 25 Height: 175\n",
      "Student: John Score: 95 Passed: True\n"
     ]
    }
   ],
   "source": [
    "print(\"Name:\", \"David\", \"Age:\", 25, \"Height:\", 175)\n",
    "\n",
    "print(\"Student:\", \"John\", \"Score:\", 95, \"Passed:\", True)"
   ]
  },
  {
   "cell_type": "markdown",
   "id": "191f45e3",
   "metadata": {},
   "source": [
    "`print()` 함수는 숫자, 문자열, 리스트 등 다양한 자료형을 출력할 수 있습니다."
   ]
  },
  {
   "cell_type": "markdown",
   "id": "94b05df9",
   "metadata": {},
   "source": [
    "### `sep`과 `end` 매개변수"
   ]
  },
  {
   "cell_type": "markdown",
   "id": "a9c3db3e",
   "metadata": {},
   "source": [
    "`print()` 함수는 `sep`과 `end`라는 두 가지 중요한 매개변수를 가지고 있습니다."
   ]
  },
  {
   "cell_type": "code",
   "execution_count": 3,
   "id": "06fb53df",
   "metadata": {},
   "outputs": [
    {
     "name": "stdout",
     "output_type": "stream",
     "text": [
      "apple, banana, cherry\n",
      "HelloWorld!\n"
     ]
    }
   ],
   "source": [
    "# sep 사용 예시\n",
    "print(\"apple\", \"banana\", \"cherry\", sep=\", \")\n",
    "\n",
    "# end 사용 예시\n",
    "print(\"Hello\", end=\"\")\n",
    "print(\"World!\")"
   ]
  },
  {
   "cell_type": "markdown",
   "id": "8a2ac833",
   "metadata": {},
   "source": [
    "\n",
    "- `sep` 매개변수는 출력되는 항목들 사이에 삽입될 문자열을 지정합니다. 기본값은 공백입니다.\n",
    "- `end` 매개변수는 출력이 끝난 후 삽입될 문자열을 지정합니다. 기본값은 줄바꿈(`\\n`)입니다.\n"
   ]
  },
  {
   "cell_type": "markdown",
   "id": "b5026aa3-f505-44a0-a5ce-3ea54f7ce599",
   "metadata": {},
   "source": [
    "### 파이썬 문자열 포매팅"
   ]
  },
  {
   "cell_type": "markdown",
   "id": "a6499b3a-0fca-40cd-916a-2dc2386e1c47",
   "metadata": {},
   "source": [
    "| 특징     | f-string    | 서식 지정자 (`%`) | `format()`      |\n",
    "| ------ | ----------- | ------------ | --------------- |\n",
    "| 가독성    | 매우 좋음       | 나쁨           | 중간              |\n",
    "| 사용 편의성 | 최고          | 낮음           | 보통              |\n",
    "| 속도     | 빠름          | 느림           | 느림              |\n",
    "| 지원 여부  | Python 3.6+ | 오래된 방식 (비추천) | Python 2.x\\~3.x |\n",
    "| 추천도    | ⭐⭐⭐⭐⭐       | ⭐            | ⭐⭐              |\n"
   ]
  },
  {
   "cell_type": "markdown",
   "id": "4af12e32-526a-47f0-aa8e-989d55eed189",
   "metadata": {},
   "source": [
    "### f-string (가장 추천, Python 3.6이상)  \n",
    "가장 직관적이고 빠른 문자열 포매팅 방식\n",
    "\n",
    "문자열 앞에 f를 붙이고, {} 안에 변수나 표현식 삽입\n",
    "\n",
    "| 기능          | 표현식        | 예시                |\n",
    "| ----------- | ---------- | ----------------- |\n",
    "| 소수점 n자리     | `{변수:.nf}` | `{pi:.2f}` → 3.14 |"
   ]
  },
  {
   "cell_type": "code",
   "execution_count": 1,
   "id": "9e329b56-4f31-44b2-9c13-2e6305b735ad",
   "metadata": {},
   "outputs": [
    {
     "name": "stdout",
     "output_type": "stream",
     "text": [
      "이름: Alice, 나이: 25\n"
     ]
    }
   ],
   "source": [
    "name = \"Alice\"\n",
    "age = 25\n",
    "print(f\"이름: {name}, 나이: {age}\")"
   ]
  },
  {
   "cell_type": "code",
   "execution_count": 5,
   "id": "595d304b-4e30-48e2-aacf-98ccc753a4f6",
   "metadata": {},
   "outputs": [
    {
     "name": "stdout",
     "output_type": "stream",
     "text": [
      "원주율:  3.14\n"
     ]
    }
   ],
   "source": [
    "pi = 3.14159\n",
    "print(f\"원주율: {pi:5.2f}\") #전체 5자리(앞 공백 포함), 소수점 2자리"
   ]
  },
  {
   "cell_type": "markdown",
   "id": "643a7010-4201-4689-b2ff-bbf558064dfe",
   "metadata": {},
   "source": [
    "### 변수 서식 지정자 (구식 방식, C 스타일)  \n",
    "% 기호 사용\n",
    "\n",
    "C 언어 스타일 방식\n"
   ]
  },
  {
   "cell_type": "code",
   "execution_count": 6,
   "id": "a441b71e-b735-45e4-8d0d-117b8f515a44",
   "metadata": {},
   "outputs": [
    {
     "name": "stdout",
     "output_type": "stream",
     "text": [
      "이름: Alice, 나이: 25\n"
     ]
    }
   ],
   "source": [
    "name = \"Alice\"\n",
    "age = 25\n",
    "print(\"이름: %s, 나이: %d\" % (name, age))\n"
   ]
  },
  {
   "cell_type": "markdown",
   "id": "3a5ede16-5054-41a6-b36c-6e305065b4f2",
   "metadata": {},
   "source": [
    "### format() 함수 (f-string 이전 주력 방식)\n",
    ".format() 메서드로 포매팅\n",
    "\n",
    "f-string보다 느리고 덜 직관적이나, 아직 많이 사용됨"
   ]
  },
  {
   "cell_type": "code",
   "execution_count": 7,
   "id": "919bd576-ad42-45df-b27e-830db7237b06",
   "metadata": {},
   "outputs": [
    {
     "name": "stdout",
     "output_type": "stream",
     "text": [
      "이름: Alice, 나이: 25\n"
     ]
    }
   ],
   "source": [
    "name = \"Alice\"\n",
    "age = 25\n",
    "print(\"이름: {}, 나이: {}\".format(name, age))\n"
   ]
  },
  {
   "cell_type": "code",
   "execution_count": null,
   "id": "abdd9ca8-27cf-4327-bd83-9d15c057ef65",
   "metadata": {},
   "outputs": [],
   "source": []
  },
  {
   "cell_type": "markdown",
   "id": "a73eb5c2",
   "metadata": {},
   "source": [
    "## 2. 변수"
   ]
  },
  {
   "cell_type": "markdown",
   "id": "ceec8109",
   "metadata": {},
   "source": [
    "변수는 데이터를 저장하는 데 사용됩니다.  \n",
    "Python에서 변수는 특정 타입을 지정하지 않고, 값을 할당함으로써 선언됩니다.  \n",
    "파이썬에서 변수는 데이터를 저장하고 사용할 수 있는 이름을 가진 메모리 공간을 의미합니다.   \n",
    "변수를 통해 값을 저장하고, 필요할 때 그 값을 참조하거나 변경할 수 있습니다.   \n",
    "파이썬의 변수는 특정 자료형을 명시적으로 선언하지 않으며, 값을 할당함으로써 자동으로 자료형이 결정됩니다."
   ]
  },
  {
   "cell_type": "markdown",
   "id": "1e3108d0",
   "metadata": {},
   "source": [
    "### 변수 선언 및 할당"
   ]
  },
  {
   "cell_type": "code",
   "execution_count": 3,
   "id": "eb60e41f",
   "metadata": {},
   "outputs": [],
   "source": [
    "x = 10       # x는 정수형 (int)\n",
    "y = 3.14     # y는 실수형 (float)\n",
    "z = \"Hello\"  # z는 문자열 (str)"
   ]
  },
  {
   "cell_type": "markdown",
   "id": "f0acac64",
   "metadata": {},
   "source": [
    "위의 예에서 `x`는 정수, `y`는 문자열, `z`는 실수 값을 갖는 변수입니다."
   ]
  },
  {
   "cell_type": "markdown",
   "id": "89d6a04b",
   "metadata": {},
   "source": [
    "### 변수 값 변경하기"
   ]
  },
  {
   "cell_type": "code",
   "execution_count": 1,
   "id": "bc22e029",
   "metadata": {},
   "outputs": [
    {
     "name": "stdout",
     "output_type": "stream",
     "text": [
      "10\n",
      "20\n"
     ]
    }
   ],
   "source": [
    "x = 10\n",
    "print(x)\n",
    "\n",
    "x = 20\n",
    "print(x)"
   ]
  },
  {
   "cell_type": "markdown",
   "id": "b17b70f0",
   "metadata": {},
   "source": [
    "변수의 값은 재할당을 통해 언제든지 변경할 수 있습니다."
   ]
  },
  {
   "cell_type": "markdown",
   "id": "b93b8df6-f2a1-4998-874a-8aae34fa9fe6",
   "metadata": {},
   "source": [
    "### 대소문자 구분  \n",
    "파이썬은 변수 이름에서 대소문자를 구분합니다.  \n",
    "즉, Name과 name은 서로 다른 변수로 간주됩니다."
   ]
  },
  {
   "cell_type": "code",
   "execution_count": 10,
   "id": "ccfbeceb-130e-48f2-8126-ea1bbb3b42dc",
   "metadata": {},
   "outputs": [
    {
     "name": "stdout",
     "output_type": "stream",
     "text": [
      "tom\n",
      "Bob\n"
     ]
    }
   ],
   "source": [
    "name = \"tom\"\n",
    "Name = \"Bob\"\n",
    "print(name)\n",
    "print(Name)"
   ]
  },
  {
   "cell_type": "markdown",
   "id": "20337e94",
   "metadata": {},
   "source": [
    "### 변수 간 값 교환하기"
   ]
  },
  {
   "cell_type": "code",
   "execution_count": 11,
   "id": "e60fdf30-f80f-47c7-9e86-dd2db1294a27",
   "metadata": {},
   "outputs": [
    {
     "name": "stdout",
     "output_type": "stream",
     "text": [
      "Before: a = 5 b = 10\n",
      "After: a = 10 b = 5\n"
     ]
    }
   ],
   "source": [
    "a = 5\n",
    "b = 10\n",
    "print(\"Before: a =\", a, \"b =\", b)\n",
    "\n",
    "# 값 교환\n",
    "a, b = b, a\n",
    "print(\"After: a =\", a, \"b =\", b)"
   ]
  },
  {
   "cell_type": "markdown",
   "id": "69aed817-6d28-4ea2-868f-aead8792eea6",
   "metadata": {},
   "source": [
    "Python에서는 두 변수의 값을 간단히 교환할 수 있습니다."
   ]
  },
  {
   "cell_type": "code",
   "execution_count": null,
   "id": "1529d58a-aaf4-4be7-bf8d-fa7c4865f154",
   "metadata": {},
   "outputs": [],
   "source": []
  },
  {
   "cell_type": "markdown",
   "id": "2356c5b1",
   "metadata": {},
   "source": [
    "## 3. `input()` 함수"
   ]
  },
  {
   "cell_type": "markdown",
   "id": "244dd27b",
   "metadata": {},
   "source": [
    "`input()` 함수는 사용자로부터 입력을 받을 때 사용됩니다. 예를 들어:"
   ]
  },
  {
   "cell_type": "code",
   "execution_count": null,
   "id": "a4c115dc-8f48-481e-8258-49b61f3bbc9d",
   "metadata": {},
   "outputs": [],
   "source": [
    "user_name = input(\"Enter your name: \")"
   ]
  },
  {
   "cell_type": "code",
   "execution_count": 5,
   "id": "d5dae645",
   "metadata": {},
   "outputs": [
    {
     "name": "stdin",
     "output_type": "stream",
     "text": [
      "Enter your name:  철수\n"
     ]
    },
    {
     "name": "stdout",
     "output_type": "stream",
     "text": [
      "Hello, 철수!\n"
     ]
    }
   ],
   "source": [
    "\n",
    "print(\"Hello, \" + user_name + \"!\")"
   ]
  },
  {
   "cell_type": "markdown",
   "id": "72dd8571",
   "metadata": {},
   "source": [
    "위의 코드는 사용자의 이름을 입력받고, `Hello, [입력된 이름]!` 형태로 출력합니다."
   ]
  },
  {
   "cell_type": "markdown",
   "id": "c1b17cf0",
   "metadata": {},
   "source": [
    "### 숫자 입력 받기"
   ]
  },
  {
   "cell_type": "code",
   "execution_count": 5,
   "id": "f10c45af",
   "metadata": {},
   "outputs": [
    {
     "name": "stdin",
     "output_type": "stream",
     "text": [
      "Enter your age:  11\n"
     ]
    },
    {
     "name": "stdout",
     "output_type": "stream",
     "text": [
      "You are 11 years old.\n"
     ]
    }
   ],
   "source": [
    "age = int(input(\"Enter your age: \"))\n",
    "print(\"You are\", age, \"years old.\")"
   ]
  },
  {
   "cell_type": "markdown",
   "id": "90e06d07",
   "metadata": {},
   "source": [
    "`input()` 함수는 항상 문자열을 반환하기 때문에, 숫자를 입력받아야 할 때는 `int()` 또는 `float()`로 형 변환을 해주어야 합니다."
   ]
  },
  {
   "cell_type": "markdown",
   "id": "a9998a6a",
   "metadata": {},
   "source": [
    "### 여러 값 입력 받기 - `split()`과 `map()`"
   ]
  },
  {
   "cell_type": "markdown",
   "id": "9b1d88a3",
   "metadata": {},
   "source": [
    "한 줄에 여러 값을 입력받을 때는 `split()` 함수와 `map()` 함수를 사용할 수 있습니다."
   ]
  },
  {
   "cell_type": "code",
   "execution_count": 6,
   "id": "29bb1946",
   "metadata": {},
   "outputs": [
    {
     "name": "stdin",
     "output_type": "stream",
     "text": [
      "Enter three numbers separated by spaces:  2 5 3\n"
     ]
    },
    {
     "name": "stdout",
     "output_type": "stream",
     "text": [
      "You entered: ['2', '5', '3']\n"
     ]
    },
    {
     "name": "stdin",
     "output_type": "stream",
     "text": [
      "Enter three numbers separated by spaces:  1 2 3\n"
     ]
    },
    {
     "name": "stdout",
     "output_type": "stream",
     "text": [
      "You entered: [1, 2, 3]\n"
     ]
    }
   ],
   "source": [
    "# split() 사용 예시\n",
    "numbers = input(\"Enter three numbers separated by spaces: \").split()\n",
    "print(\"You entered:\", numbers)\n",
    "\n",
    "# map() 사용 예시\n",
    "numbers = list(map(int, input(\"Enter three numbers separated by spaces: \").split()))\n",
    "print(\"You entered:\", numbers)"
   ]
  },
  {
   "cell_type": "markdown",
   "id": "c7f4813c",
   "metadata": {},
   "source": [
    "\n",
    "- `split()` 함수는 입력된 문자열을 공백이나 다른 구분자를 기준으로 분할하여 리스트로 반환합니다.\n",
    "- `map()` 함수는 리스트의 각 요소에 대해 주어진 함수를 적용하여 새로운 리스트를 만듭니다. 예를 들어, `map(int, ...)`은 문자열 리스트를 정수 리스트로 변환합니다.\n"
   ]
  },
  {
   "cell_type": "code",
   "execution_count": 9,
   "id": "73c98e79",
   "metadata": {},
   "outputs": [
    {
     "name": "stdout",
     "output_type": "stream",
     "text": [
      "Before: a = 5 b = 10\n",
      "After: a = 10 b = 5\n"
     ]
    }
   ],
   "source": []
  },
  {
   "cell_type": "markdown",
   "id": "d68f407c",
   "metadata": {},
   "source": []
  },
  {
   "cell_type": "markdown",
   "id": "901bed99",
   "metadata": {},
   "source": [
    "## 4. 연습 문제"
   ]
  },
  {
   "cell_type": "markdown",
   "id": "3c4268e6",
   "metadata": {},
   "source": [
    "## 문제 1. print() 함수의 sep과 end 매개변수 사용\n",
    "문제 설명:\n",
    "print() 함수의 sep과 end 매개변수를 활용하여,\n",
    "여러분의 이름과 나이를 다음과 같은 형식으로 출력하는 프로그램을 작성하세요.\n",
    "\n",
    "출력 예시:  \n",
    "     이름: 홍길동, 나이: 20세입니다.\n",
    "- sep를 사용하여 : 뒤에 공백 없이 출력\n",
    "- end를 사용하여 출력이 끝난 뒤, \"감사합니다!\"라는 문장을 이어서 출력되도록 만드세요.\n",
    "\n",
    "출력 결과 예시 (한 번에 출력됨):\n",
    "이름:홍길동, 나이:20세입니다.감사합니다!\n",
    "\n",
    "힌트:\n",
    "print()의 기본 구분자 sep와 끝문자 end를 꼭 활용하세요.\n"
   ]
  },
  {
   "cell_type": "code",
   "execution_count": null,
   "id": "712ff3b7-924d-4811-b7b9-147afd772fbd",
   "metadata": {},
   "outputs": [],
   "source": []
  },
  {
   "cell_type": "markdown",
   "id": "d17c6f0d-036f-4df8-8e87-187be7b2f256",
   "metadata": {},
   "source": [
    "## 문제 2 : input()과 split()으로 두 숫자 합계 계산\n",
    "문제 설명:\n",
    "input() 함수와 split() 메서드를 사용하여 한 줄에 두 개의 정수를 입력받고, 그 두 수의 합을 계산하여 출력하는 프로그램을 작성하세요.\n",
    "\n",
    "출력 예시:  \n",
    "숫자 두 개를 입력하세요: 3 5\n",
    "두 수의 합: 8\n",
    "\n",
    "조건: 한 줄에 입력받아야 합니다.\n",
    "split()으로 나누고, map(int, ...)으로 정수 변환을 반드시 사용하세요."
   ]
  },
  {
   "cell_type": "code",
   "execution_count": null,
   "id": "68bc61c2-031a-4307-accf-04ccda4e802e",
   "metadata": {},
   "outputs": [],
   "source": []
  },
  {
   "cell_type": "markdown",
   "id": "ede06e0d-101a-414f-91c0-b9fefcf93ce1",
   "metadata": {},
   "source": [
    "## 문제 3. 세 숫자의 평균 계산  \n",
    "문제 설명: 세 개의 정수를 입력받아,세 수의 평균을 계산하고 출력하는 프로그램을 작성하세요.\n",
    "\n",
    "출력 예시:  \n",
    "세 개의 정수를 입력하세요: 10 20 30\n",
    "세 수의 평균: 20.0\n",
    "\n",
    "조건:  \n",
    "- 반드시 input().split()으로 한 줄에 입력받기  \n",
    "- 평균은 실수(float) 형태로 출력\n",
    "- 소수점 자리수는 제한하지 않지만, 필요하면 round() 사용 가능"
   ]
  },
  {
   "cell_type": "code",
   "execution_count": null,
   "id": "b58d67a5-70b2-4268-b5a3-d954d3b5d4c7",
   "metadata": {},
   "outputs": [],
   "source": []
  },
  {
   "cell_type": "markdown",
   "id": "458ec520-9899-4819-af67-3f1356d80ba3",
   "metadata": {},
   "source": [
    "## 문제 4. 키와 몸무게로 BMI 계산\n",
    "문제 설명: input() 함수와 split()을 사용하여 사용자의 **키(cm)**와 **몸무게(kg)**를 입력받고, BMI를 계산하여 출력하는 프로그램을 작성하세요.\n",
    "\n",
    "BMI 계산식:  \n",
    "BMI = 몸무게(kg) / (키(m) * 키(m))\n",
    "출력 예시:  \n",
    "키(cm)와 몸무게(kg)를 입력하세요: 170 65\n",
    "당신의 BMI는 22.49134948096886 입니다.\n",
    "\n",
    "조건:  \n",
    "- 키는 반드시 cm로 입력받고, 계산 시 m로 변환해야 합니다.  \n",
    "- 반드시 map(float, ...) 사용하여 입력값을 실수형으로 변환해야 합니다."
   ]
  },
  {
   "cell_type": "code",
   "execution_count": null,
   "id": "6b156ae4-cf09-4817-8bc9-e71ddd9a479b",
   "metadata": {},
   "outputs": [],
   "source": []
  },
  {
   "cell_type": "code",
   "execution_count": null,
   "id": "ff1a4d8d-f64c-467e-bd91-1e90ea8cc127",
   "metadata": {},
   "outputs": [],
   "source": []
  },
  {
   "cell_type": "code",
   "execution_count": null,
   "id": "deb41307-599f-45f8-9465-4343a4e10d9b",
   "metadata": {},
   "outputs": [],
   "source": []
  },
  {
   "cell_type": "code",
   "execution_count": null,
   "id": "834da0d7-e35e-40aa-9b1b-fd0bc67a06b1",
   "metadata": {},
   "outputs": [],
   "source": []
  },
  {
   "cell_type": "code",
   "execution_count": null,
   "id": "e163c8c9-8c59-47f1-afec-a20c69f90e6a",
   "metadata": {},
   "outputs": [],
   "source": []
  },
  {
   "cell_type": "code",
   "execution_count": null,
   "id": "c645fa9d-a7c9-489b-a8e8-a5760dd568e1",
   "metadata": {},
   "outputs": [],
   "source": []
  }
 ],
 "metadata": {
  "kernelspec": {
   "display_name": "Python 3 (ipykernel)",
   "language": "python",
   "name": "python3"
  },
  "language_info": {
   "codemirror_mode": {
    "name": "ipython",
    "version": 3
   },
   "file_extension": ".py",
   "mimetype": "text/x-python",
   "name": "python",
   "nbconvert_exporter": "python",
   "pygments_lexer": "ipython3",
   "version": "3.9.21"
  }
 },
 "nbformat": 4,
 "nbformat_minor": 5
}
